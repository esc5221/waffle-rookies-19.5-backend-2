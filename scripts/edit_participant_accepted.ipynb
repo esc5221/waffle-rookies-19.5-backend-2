{
 "cells": [
  {
   "cell_type": "code",
   "execution_count": 43,
   "id": "a8e92ed9",
   "metadata": {},
   "outputs": [
    {
     "name": "stdout",
     "output_type": "stream",
     "text": [
      "수강가능여부를 변경할 유저의 email을 입력하세요 - ex) 1_id@snu.ac.kr :  3another_insman@gmail.com\n",
      "유저가 확인되었습니다. :  3anotherguy\n",
      "드랍한 세미나 : \n",
      "[{'id': 141, 'name': 'wholenew_lecture_3'}, {'id': 142, 'name': 'fef'}]\n",
      "드랍을 번복할 세미나의 ID를 입력하세요 - ex) 3 :  141\n",
      "\n",
      "수정이 완료되었습니다.\n",
      "현재 세미나 참여 상태 :  True\n"
     ]
    }
   ],
   "source": [
    "import pprint\n",
    "def edit_participant_accepted():\n",
    "    import os\n",
    "    os.environ[\"DJANGO_ALLOW_ASYNC_UNSAFE\"] = \"true\"\n",
    "\n",
    "    email = input(\"수강가능여부를 변경할 유저의 email을 입력하세요 - ex) 1_id@snu.ac.kr :  \")\n",
    "    \n",
    "    try : \n",
    "        target_user = User.objects.get(email=email)\n",
    "        print(\"유저가 확인되었습니다. : \", target_user)\n",
    "        \n",
    "        seminar_list = list(Seminar.objects.filter(\n",
    "                            userseminar__user=target_user,\n",
    "                            userseminar__role='participant',\n",
    "                            userseminar__is_active=False)\n",
    "                        .values('id','name'))\n",
    "        if seminar_list == [] : \n",
    "            print(\"드랍한 세미나가 없습니다.\")\n",
    "            return\n",
    "        print(\"드랍한 세미나 : \")\n",
    "        pprint.pprint(seminar_list, indent=2)\n",
    "    except : \n",
    "        print(\"유저 email이 잘못되었습니다.\")\n",
    "        return\n",
    "    \n",
    "    seminar_id = input(\"드랍을 번복할 세미나의 ID를 입력하세요 - ex) 3 :  \")\n",
    "    \n",
    "    try : \n",
    "        target_seminar = UserSeminar.objects.get(\n",
    "                            seminar_id=seminar_id,\n",
    "                            user_id=target_user,\n",
    "                            role='participant',\n",
    "                            is_active=False)\n",
    "    except : \n",
    "        print(\"세미나 ID가 잘못되었습니다.\")\n",
    "        return\n",
    "\n",
    "    target_seminar.is_active=True\n",
    "    target_seminar.dropped_at=None\n",
    "    target_seminar.save()\n",
    "    print(\"\\n수정이 완료되었습니다.\\n현재 세미나 참여 상태 : \", target_seminar.is_active)\n",
    "\n",
    "edit_participant_accepted()\n",
    "\n"
   ]
  },
  {
   "cell_type": "code",
   "execution_count": null,
   "id": "79abc33e",
   "metadata": {},
   "outputs": [],
   "source": []
  }
 ],
 "metadata": {
  "kernelspec": {
   "display_name": "Django Shell-Plus",
   "language": "python",
   "name": "django_extensions"
  },
  "language_info": {
   "codemirror_mode": {
    "name": "ipython",
    "version": 3
   },
   "file_extension": ".py",
   "mimetype": "text/x-python",
   "name": "python",
   "nbconvert_exporter": "python",
   "pygments_lexer": "ipython3",
   "version": "3.8.10"
  }
 },
 "nbformat": 4,
 "nbformat_minor": 5
}
