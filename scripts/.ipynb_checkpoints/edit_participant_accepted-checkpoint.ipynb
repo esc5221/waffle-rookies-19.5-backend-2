{
 "cells": [
  {
   "cell_type": "code",
   "execution_count": null,
   "id": "a8e92ed9",
   "metadata": {},
   "outputs": [
    {
     "name": "stdout",
     "output_type": "stream",
     "text": [
      "드랍을 번복하려는 유저의 email을 입력하세요 - ex) 1_id@snu.ac.kr :  1_id@snu.ac.kr\n",
      "유저가 확인되었습니다. :  choibw\n",
      "\n",
      "현재 수강가능여부 (accepted) :  False\n"
     ]
    }
   ],
   "source": [
    "def edit_participant_accepted():\n",
    "    import os\n",
    "    os.environ[\"DJANGO_ALLOW_ASYNC_UNSAFE\"] = \"true\"\n",
    "\n",
    "    email = input(\"수강가능여부를 변경할 유저의 email을 입력하세요 - ex) 1_id@snu.ac.kr :  \")\n",
    "\n",
    "    try : \n",
    "        target_user = User.objects.get(email=email)\n",
    "        print(\"유저가 확인되었습니다. : \", target_user)\n",
    "    except : \n",
    "        print(\"유저 email이 잘못되었습니다.\")\n",
    "        return\n",
    "    \n",
    "    print(\"\\n현재 수강가능여부 (accepted) : \", target_user.participant.accepted)\n",
    "    try : \n",
    "        value = input(\"변경할 값을 입력하세요. (가능:T, 불가능:F) :  \")\n",
    "    except :\n",
    "        print(\"값이 잘못되었습니다. T 또는 F를 입력하세요.\")\n",
    "        return\n",
    "    if value==\"T\" : target_user.participant.accepted = True\n",
    "    if value==\"F\" : target_user.participant.accepted = False\n",
    "    target_user.participant.save()\n",
    "    print(\"\\n수정이 완료되었습니다.\\n변경된 수강가능여부 (accepted) : \", target_user.participant.accepted)\n",
    "\n",
    "edit_participant_accepted()\n",
    "\n"
   ]
  },
  {
   "cell_type": "code",
   "execution_count": null,
   "id": "79abc33e",
   "metadata": {},
   "outputs": [],
   "source": []
  }
 ],
 "metadata": {
  "kernelspec": {
   "display_name": "Django Shell-Plus",
   "language": "python",
   "name": "django_extensions"
  },
  "language_info": {
   "codemirror_mode": {
    "name": "ipython",
    "version": 3
   },
   "file_extension": ".py",
   "mimetype": "text/x-python",
   "name": "python",
   "nbconvert_exporter": "python",
   "pygments_lexer": "ipython3",
   "version": "3.8.10"
  }
 },
 "nbformat": 4,
 "nbformat_minor": 5
}
